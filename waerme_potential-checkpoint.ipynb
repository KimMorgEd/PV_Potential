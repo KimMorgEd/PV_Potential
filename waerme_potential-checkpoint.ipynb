{
 "cells": [
  {
   "cell_type": "code",
   "execution_count": 7,
   "id": "85b13440",
   "metadata": {},
   "outputs": [],
   "source": [
    "import requests\n",
    "import win32ui\n",
    "import warnings\n",
    "warnings.filterwarnings(\"ignore\")\n",
    "import geopandas as gpd\n",
    "import pandas as pd\n",
    "import numpy as np"
   ]
  },
  {
   "cell_type": "code",
   "execution_count": 2,
   "id": "6f6b9949",
   "metadata": {},
   "outputs": [],
   "source": [
    "#Import gpd files\n",
    "file_path = \"thermische-netze_2056.gpkg\"\n",
    "gdf_warme = gpd.read_file(file_path, bbox=(2594280.571, 1195901.831, 2609364.436,1202932.627),engine = \"pyogrio\")\n",
    "file_path_solkat = \"SOLKAT_DACH.gpkg\"\n",
    "gdf = gpd.read_file(file_path_solkat, bbox=(2568677.366, 1259467.912, 2754129.966,1164829.524),engine = \"pyogrio\")\n",
    "file_path = \"ch.bfe.elektrizitaetsproduktionsanlagen.gpkg\""
   ]
  },
  {
   "cell_type": "code",
   "execution_count": 4,
   "id": "397dda41",
   "metadata": {},
   "outputs": [],
   "source": [
    "gdf_warme_clean = gdf_warme[[\"Power\", \"geometry\"]]"
   ]
  },
  {
   "cell_type": "code",
   "execution_count": 5,
   "id": "13654c7b",
   "metadata": {},
   "outputs": [],
   "source": [
    "file_path_solkat = \"SOLKAT_DACH.gpkg\"\n",
    "gdf = gpd.read_file(file_path_solkat, bbox=(2568677.366, 1259467.912, 2754129.966,1164829.524),engine = \"pyogrio\")"
   ]
  },
  {
   "cell_type": "code",
   "execution_count": 6,
   "id": "9a59ba89",
   "metadata": {},
   "outputs": [],
   "source": [
    "gdf_clean = gdf[[\"KLASSE\", \"FLAECHE\",\"STROMERTRAG\",\"WAERMEERTRAG\", \"BEDARF_WARMWASSER\", \"BEDARF_HEIZUNG\", \"FLAECHE_KOLLEKTOREN\",\"GWR_EGID\", \"geometry\"]]\n",
    "gdf_clean = gdf_clean.rename(columns={'GWR_EGID': 'EGID'})"
   ]
  },
  {
   "cell_type": "code",
   "execution_count": 8,
   "id": "c6ac3324",
   "metadata": {},
   "outputs": [],
   "source": [
    "#Merge gpd waerme und solkat\n",
    "gdf_pot = gpd.sjoin(gdf_clean, gdf_warme_clean, how=\"left\", op=\"contains\")"
   ]
  },
  {
   "cell_type": "code",
   "execution_count": 9,
   "id": "3d1dfebe",
   "metadata": {},
   "outputs": [],
   "source": [
    "#We only want to include the rows where there is no measured power yet. \n",
    "gdf_pot['Power'].replace(['NA', 'N/A', 'nan'], np.nan, inplace=True)\n",
    "gdf_pot_na = gdf_pot[np.isnan(gdf_pot['Power'])]\n",
    "values_not_exclude = gdf_pot_na[\"EGID\"].tolist()\n",
    "filtered_gdf_clean = gdf_clean[gdf_clean[\"EGID\"].isin(values_not_exclude)]\n",
    "filtered_gdf_clean = filtered_gdf_clean.dropna(subset=['EGID'])\n"
   ]
  },
  {
   "cell_type": "code",
   "execution_count": 10,
   "id": "0d4f5a09",
   "metadata": {},
   "outputs": [],
   "source": [
    "#filtered_gdf_clean_klas = filtered_gdf_clean[(filtered_gdf_clean['KLASSE'] >= 3) & (filtered_gdf_clean['KLASSE'] <= 5)]\n",
    "#geometry no longer neccessary\n",
    "columns_to_drop = [\"geometry\"]\n",
    "filtered_gdf_clean_klas = filtered_gdf_clean.drop(columns=columns_to_drop)"
   ]
  },
  {
   "cell_type": "code",
   "execution_count": 12,
   "id": "659ad76e",
   "metadata": {},
   "outputs": [],
   "source": [
    "#Load postcode data so that we can filter according to location (Bern, Bern surrounding, Deutschschweiz)\n",
    "df_plz = pd.read_csv(\"eingang_entree_entrata.csv\", sep='\\t')\n",
    "df_plz_clean = df_plz[[\"EGID\", \"DPLZ4\"]]"
   ]
  },
  {
   "cell_type": "code",
   "execution_count": 13,
   "id": "fc6a4941",
   "metadata": {},
   "outputs": [],
   "source": [
    "#Load data about the houses. EGID to merge, WBAUJ= Baujahr, WAZIM = Anzahl Zimmer, WSTAT\n",
    "df_wohnung= pd.read_csv(\"wohnung_logement_abitazione.csv\", sep='\\t')\n",
    "df_wohnung = df_wohnung.dropna(subset=['EGID'])\n",
    "df_wohnung_clean = df_wohnung[[\"EGID\", \"WBAUJ\",\"WSTAT\", \"WAZIM\"]]"
   ]
  },
  {
   "cell_type": "code",
   "execution_count": 14,
   "id": "ad2c13c5",
   "metadata": {},
   "outputs": [],
   "source": [
    "df_gebaeude = pd.read_csv(\"gebaeude_batiment_edificio.csv\", sep='\\t')\n",
    "selected_columns = [\"EGID\", \"GKLAS\", \"GKAT\", \"GDEKT\", \"GANZWHG\"]\n",
    "df_geb = df_gebaeude[selected_columns ]"
   ]
  },
  {
   "cell_type": "code",
   "execution_count": 15,
   "id": "6edc553f",
   "metadata": {},
   "outputs": [],
   "source": [
    "def classify_building(code, code2):\n",
    "    if pd.notna(code) and pd.notna(code2) and code == 1020 and code2 == 1110:\n",
    "        return 'EFH'\n",
    "    elif pd.notna(code) and pd.notna(code2) and code == 1020 and (code2 == 1121 or code2 == 1122):\n",
    "        return 'MFH'\n",
    "    elif pd.notna(code) and code == 1030:\n",
    "        return 'GW'\n",
    "    else:\n",
    "        return 'OhneWohnnutzung'"
   ]
  },
  {
   "cell_type": "code",
   "execution_count": 16,
   "id": "8bd143e2",
   "metadata": {},
   "outputs": [],
   "source": [
    "# Bern Grossraum\n",
    "df_rundumBern = pd.read_excel(\"rundumBern.xlsx\")\n",
    "bernrundum = df_rundumBern['PLZ'].tolist()\n",
    "filtered_df_rundum = df_plz_clean[df_plz_clean[\"DPLZ4\"].isin(bernrundum)]"
   ]
  },
  {
   "cell_type": "code",
   "execution_count": 17,
   "id": "7e170175",
   "metadata": {},
   "outputs": [],
   "source": [
    "merged_df_bern = pd.merge(filtered_gdf_clean_klas,filtered_df_rundum,  on='EGID', how='left')\n",
    "merged_df_bern = merged_df_bern.dropna(subset=['DPLZ4'], how='any')\n",
    "merged_df_bern= merged_df_bern.drop_duplicates()"
   ]
  },
  {
   "cell_type": "code",
   "execution_count": 18,
   "id": "96890a60",
   "metadata": {},
   "outputs": [],
   "source": [
    "\n",
    "merged_df_bern_2 = pd.merge(merged_df_bern,df_geb, on='EGID', how='left')\n",
    "merged_df_bern_3 = pd.merge(merged_df_bern_2, df_wohnung_clean, on='EGID', how='left')\n",
    "merged_df_bern_3= merged_df_bern_3.drop_duplicates()"
   ]
  },
  {
   "cell_type": "code",
   "execution_count": 19,
   "id": "98bcb466",
   "metadata": {},
   "outputs": [
    {
     "data": {
      "text/html": [
       "<div>\n",
       "<style scoped>\n",
       "    .dataframe tbody tr th:only-of-type {\n",
       "        vertical-align: middle;\n",
       "    }\n",
       "\n",
       "    .dataframe tbody tr th {\n",
       "        vertical-align: top;\n",
       "    }\n",
       "\n",
       "    .dataframe thead th {\n",
       "        text-align: right;\n",
       "    }\n",
       "</style>\n",
       "<table border=\"1\" class=\"dataframe\">\n",
       "  <thead>\n",
       "    <tr style=\"text-align: right;\">\n",
       "      <th></th>\n",
       "      <th>KLASSE</th>\n",
       "      <th>FLAECHE</th>\n",
       "      <th>STROMERTRAG</th>\n",
       "      <th>WAERMEERTRAG</th>\n",
       "      <th>BEDARF_WARMWASSER</th>\n",
       "      <th>BEDARF_HEIZUNG</th>\n",
       "      <th>FLAECHE_KOLLEKTOREN</th>\n",
       "      <th>EGID</th>\n",
       "      <th>DPLZ4</th>\n",
       "      <th>GKLAS</th>\n",
       "      <th>GKAT</th>\n",
       "      <th>GDEKT</th>\n",
       "      <th>GANZWHG</th>\n",
       "      <th>WBAUJ</th>\n",
       "      <th>WSTAT</th>\n",
       "      <th>WAZIM</th>\n",
       "      <th>building_type</th>\n",
       "      <th>Bedarf_total</th>\n",
       "    </tr>\n",
       "  </thead>\n",
       "  <tbody>\n",
       "    <tr>\n",
       "      <th>0</th>\n",
       "      <td>4</td>\n",
       "      <td>7.492626</td>\n",
       "      <td>1485</td>\n",
       "      <td>1150</td>\n",
       "      <td>120</td>\n",
       "      <td>2281</td>\n",
       "      <td>7.492626</td>\n",
       "      <td>502137500.0</td>\n",
       "      <td>3158.0</td>\n",
       "      <td>&lt;NA&gt;</td>\n",
       "      <td>1060</td>\n",
       "      <td>BE</td>\n",
       "      <td>NaN</td>\n",
       "      <td>NaN</td>\n",
       "      <td>NaN</td>\n",
       "      <td>NaN</td>\n",
       "      <td>OhneWohnnutzung</td>\n",
       "      <td>2401</td>\n",
       "    </tr>\n",
       "    <tr>\n",
       "      <th>1</th>\n",
       "      <td>4</td>\n",
       "      <td>9.024376</td>\n",
       "      <td>1798</td>\n",
       "      <td>1157</td>\n",
       "      <td>120</td>\n",
       "      <td>2281</td>\n",
       "      <td>9.024376</td>\n",
       "      <td>502137499.0</td>\n",
       "      <td>3158.0</td>\n",
       "      <td>&lt;NA&gt;</td>\n",
       "      <td>1060</td>\n",
       "      <td>BE</td>\n",
       "      <td>NaN</td>\n",
       "      <td>NaN</td>\n",
       "      <td>NaN</td>\n",
       "      <td>NaN</td>\n",
       "      <td>OhneWohnnutzung</td>\n",
       "      <td>2401</td>\n",
       "    </tr>\n",
       "    <tr>\n",
       "      <th>2</th>\n",
       "      <td>5</td>\n",
       "      <td>23.193539</td>\n",
       "      <td>5377</td>\n",
       "      <td>14341</td>\n",
       "      <td>6408</td>\n",
       "      <td>99822</td>\n",
       "      <td>23.193539</td>\n",
       "      <td>1405828.0</td>\n",
       "      <td>3158.0</td>\n",
       "      <td>1110</td>\n",
       "      <td>1030</td>\n",
       "      <td>BE</td>\n",
       "      <td>1.0</td>\n",
       "      <td>1999.0</td>\n",
       "      <td>3004.0</td>\n",
       "      <td>5.0</td>\n",
       "      <td>GW</td>\n",
       "      <td>106230</td>\n",
       "    </tr>\n",
       "    <tr>\n",
       "      <th>3</th>\n",
       "      <td>4</td>\n",
       "      <td>65.289947</td>\n",
       "      <td>12807</td>\n",
       "      <td>14879</td>\n",
       "      <td>6408</td>\n",
       "      <td>99822</td>\n",
       "      <td>36.031604</td>\n",
       "      <td>1405828.0</td>\n",
       "      <td>3158.0</td>\n",
       "      <td>1110</td>\n",
       "      <td>1030</td>\n",
       "      <td>BE</td>\n",
       "      <td>1.0</td>\n",
       "      <td>1999.0</td>\n",
       "      <td>3004.0</td>\n",
       "      <td>5.0</td>\n",
       "      <td>GW</td>\n",
       "      <td>106230</td>\n",
       "    </tr>\n",
       "    <tr>\n",
       "      <th>4</th>\n",
       "      <td>3</td>\n",
       "      <td>65.264232</td>\n",
       "      <td>10756</td>\n",
       "      <td>14031</td>\n",
       "      <td>6408</td>\n",
       "      <td>99822</td>\n",
       "      <td>43.166181</td>\n",
       "      <td>1405828.0</td>\n",
       "      <td>3158.0</td>\n",
       "      <td>1110</td>\n",
       "      <td>1030</td>\n",
       "      <td>BE</td>\n",
       "      <td>1.0</td>\n",
       "      <td>1999.0</td>\n",
       "      <td>3004.0</td>\n",
       "      <td>5.0</td>\n",
       "      <td>GW</td>\n",
       "      <td>106230</td>\n",
       "    </tr>\n",
       "  </tbody>\n",
       "</table>\n",
       "</div>"
      ],
      "text/plain": [
       "   KLASSE    FLAECHE  STROMERTRAG  WAERMEERTRAG  BEDARF_WARMWASSER  \\\n",
       "0       4   7.492626         1485          1150                120   \n",
       "1       4   9.024376         1798          1157                120   \n",
       "2       5  23.193539         5377         14341               6408   \n",
       "3       4  65.289947        12807         14879               6408   \n",
       "4       3  65.264232        10756         14031               6408   \n",
       "\n",
       "   BEDARF_HEIZUNG  FLAECHE_KOLLEKTOREN         EGID   DPLZ4  GKLAS  GKAT  \\\n",
       "0            2281             7.492626  502137500.0  3158.0   <NA>  1060   \n",
       "1            2281             9.024376  502137499.0  3158.0   <NA>  1060   \n",
       "2           99822            23.193539    1405828.0  3158.0   1110  1030   \n",
       "3           99822            36.031604    1405828.0  3158.0   1110  1030   \n",
       "4           99822            43.166181    1405828.0  3158.0   1110  1030   \n",
       "\n",
       "  GDEKT  GANZWHG   WBAUJ   WSTAT  WAZIM    building_type  Bedarf_total  \n",
       "0    BE      NaN     NaN     NaN    NaN  OhneWohnnutzung          2401  \n",
       "1    BE      NaN     NaN     NaN    NaN  OhneWohnnutzung          2401  \n",
       "2    BE      1.0  1999.0  3004.0    5.0               GW        106230  \n",
       "3    BE      1.0  1999.0  3004.0    5.0               GW        106230  \n",
       "4    BE      1.0  1999.0  3004.0    5.0               GW        106230  "
      ]
     },
     "execution_count": 19,
     "metadata": {},
     "output_type": "execute_result"
    }
   ],
   "source": [
    "result_df = merged_df_bern_3\n",
    "result_df['GKLAS'] = pd.to_numeric(result_df['GKLAS'], errors='coerce').astype('Int64')\n",
    "result_df['GKAT'] = pd.to_numeric(result_df['GKAT'], errors='coerce').astype('Int64')\n",
    "result_df['building_type'] = result_df.apply(lambda row: classify_building(row['GKAT'], row['GKLAS']), axis=1)\n",
    "result_df[\"Bedarf_total\"] = result_df[\"BEDARF_WARMWASSER\"]+result_df[\"BEDARF_HEIZUNG\"]\n",
    "#result_df_cleaned = result_df.dropna(subset=['STROMERTRAG', 'BEDARF_WARMWASSER'], how='any')\n",
    "result_df.head()"
   ]
  },
  {
   "cell_type": "code",
   "execution_count": 22,
   "id": "ac8b424f",
   "metadata": {},
   "outputs": [],
   "source": [
    "output_file = 'WaermePotential_Bernumgebung_v1.csv'\n",
    "result_df.to_csv(output_file, index=False)"
   ]
  },
  {
   "cell_type": "code",
   "execution_count": 23,
   "id": "b8b35704",
   "metadata": {},
   "outputs": [],
   "source": [
    "#Deutschschweiz\n",
    "df_GCH = pd.read_excel(\"Postleitzahlen-Schweiz.xlsx\")\n",
    "cantons = [\"AG\", \"BE\", \"GL\", \"LU\", \"NW\", \"OB\", \"SG\", \"SH\", \"SZ\", \"SO\", \"TG\", \"UR\", \"ZG\", \"ZH\", \"AI\", \"AR\", \"BE\", \"BS\", \"BL\"]\n",
    "filtered_df_dch = df_GCH[df_GCH[\"Abkürzung / Abréviation / Abbreviazione\"].isin(cantons)]\n",
    "gch = filtered_df_dch['Postleitzahl / Code Postal / Codice Postale'].tolist()\n",
    "df_gch= df_plz_clean[df_plz_clean[\"DPLZ4\"].isin(gch)]"
   ]
  },
  {
   "cell_type": "code",
   "execution_count": 24,
   "id": "55321bed",
   "metadata": {},
   "outputs": [],
   "source": [
    "merged_gch = pd.merge(filtered_gdf_clean_klas,df_gch,  on='EGID', how='left')\n",
    "merged_gch = merged_gch.dropna(subset=['DPLZ4'], how='any')\n",
    "merged_gch= merged_gch.drop_duplicates()"
   ]
  },
  {
   "cell_type": "code",
   "execution_count": 25,
   "id": "dbcb5e6b",
   "metadata": {},
   "outputs": [],
   "source": [
    "\n",
    "merged_gch_2 = pd.merge(merged_gch, df_geb, on='EGID', how='left')\n",
    "merged_gch_3 = pd.merge(merged_gch_2, df_wohnung_clean, on='EGID', how='left')\n",
    "merged_gch_3= merged_gch_3.drop_duplicates()"
   ]
  },
  {
   "cell_type": "code",
   "execution_count": null,
   "id": "87e1af51",
   "metadata": {},
   "outputs": [],
   "source": [
    "result_df_gch_cleaned = merged_gch_3\n",
    "#result_df_gch_cleaned = result_df_gch.dropna(subset=['STROMERTRAG', 'BEDARF_WARMWASSER'], how='any')\n",
    "result_df_gch_cleaned['GKLAS'] = pd.to_numeric(result_df_gch_cleaned['GKLAS'], errors='coerce').astype('Int64')\n",
    "result_df_gch_cleaned['GKAT'] = pd.to_numeric(result_df_gch_cleaned['GKAT'], errors='coerce').astype('Int64')\n",
    "result_df_gch_cleaned['building_type'] = result_df_gch_cleaned.apply(lambda row: classify_building(row['GKAT'], row['GKLAS']), axis=1)\n",
    "result_df_gch_cleaned[\"Bedarf_total\"] = result_df_gch_cleaned[\"BEDARF_WARMWASSER\"]+result_df_gch_cleaned[\"BEDARF_HEIZUNG\"]\n",
    "result_df_gch_cleaned.head()"
   ]
  },
  {
   "cell_type": "code",
   "execution_count": null,
   "id": "3f077695",
   "metadata": {},
   "outputs": [],
   "source": [
    "output_file = 'WaermePotential_DCH_v1.csv'\n",
    "result_df_gch_cleaned.to_csv(output_file, index=False)"
   ]
  },
  {
   "cell_type": "code",
   "execution_count": null,
   "id": "17b33b22",
   "metadata": {},
   "outputs": [],
   "source": [
    "#Bern\n",
    "bern = [3000, 3001, 3003, 3004, 3005, 3006, 3007, 3008, 3010, 3011, 3012, 3013, 3014, 3015, 3018, 3019, 3020, 3024, 3027, 3030, 3040]\n",
    "filtered_df_bern = df_plz_clean[df_plz_clean[\"DPLZ4\"].isin(bern)]"
   ]
  },
  {
   "cell_type": "code",
   "execution_count": null,
   "id": "3d2292cf",
   "metadata": {},
   "outputs": [],
   "source": [
    "merged_df = pd.merge(filtered_gdf_clean_klas,filtered_df_bern,  on='EGID', how='left')\n",
    "merged_df = merged_df.dropna(subset=['DPLZ4'], how='any')\n",
    "merged_df= merged_df.drop_duplicates()"
   ]
  },
  {
   "cell_type": "code",
   "execution_count": null,
   "id": "b2852e95",
   "metadata": {},
   "outputs": [],
   "source": [
    "\n",
    "merged_df_2 = pd.merge(merged_df,df_geb, on='EGID', how='left')\n",
    "merged_df_3 = pd.merge(merged_df_2, df_wohnung_clean, on='EGID', how='left')\n",
    "merged_df_3= merged_df_3.drop_duplicates()"
   ]
  },
  {
   "cell_type": "code",
   "execution_count": null,
   "id": "1cbb83cd",
   "metadata": {},
   "outputs": [],
   "source": [
    "result_df_bern = merged_df_3\n",
    "result_df_bern['GKLAS'] = pd.to_numeric(result_df_bern['GKLAS'], errors='coerce').astype('Int64')\n",
    "result_df_bern['GKAT'] = pd.to_numeric(result_df_bern['GKAT'], errors='coerce').astype('Int64')\n",
    "result_df_bern['building_type'] = result_df_bern.apply(lambda row: classify_building(row['GKAT'], row['GKLAS']), axis=1)\n",
    "result_df_bern[\"Bedarf_total\"] = result_df_bern[\"BEDARF_WARMWASSER\"]+result_df_bern[\"BEDARF_HEIZUNG\"]\n",
    "#result_df_bern_cleaned = result_df_bern.dropna(subset=['STROMERTRAG', 'BEDARF_WARMWASSER'], how='any')\n",
    "result_df_bern.head()"
   ]
  },
  {
   "cell_type": "code",
   "execution_count": null,
   "id": "b8fe7e4a",
   "metadata": {},
   "outputs": [],
   "source": [
    "output_file = 'WaermePotential_Bern_v1.csv'\n",
    "result_df_bern.to_csv(output_file, index=False)"
   ]
  }
 ],
 "metadata": {
  "kernelspec": {
   "display_name": "Python 3 (ipykernel)",
   "language": "python",
   "name": "python3"
  },
  "language_info": {
   "codemirror_mode": {
    "name": "ipython",
    "version": 3
   },
   "file_extension": ".py",
   "mimetype": "text/x-python",
   "name": "python",
   "nbconvert_exporter": "python",
   "pygments_lexer": "ipython3",
   "version": "3.9.13"
  }
 },
 "nbformat": 4,
 "nbformat_minor": 5
}
